{
 "cells": [
  {
   "cell_type": "code",
   "execution_count": 134,
   "metadata": {},
   "outputs": [],
   "source": [
    "import math"
   ]
  },
  {
   "cell_type": "code",
   "execution_count": 135,
   "metadata": {},
   "outputs": [
    {
     "name": "stdout",
     "output_type": "stream",
     "text": [
      "['0', 'b', '1', '0', '1']\n"
     ]
    }
   ],
   "source": [
    "b = list(bin(5))\n",
    "print(b)"
   ]
  },
  {
   "cell_type": "code",
   "execution_count": 136,
   "metadata": {},
   "outputs": [
    {
     "name": "stdout",
     "output_type": "stream",
     "text": [
      "len(b)= 5\n",
      "i= 2 b[i]= 1\n",
      "c==1: 1\n",
      "i= 3 b[i]= 0\n",
      "i= 4 b[i]= 1\n",
      "c==1: 1\n",
      "1\n"
     ]
    }
   ],
   "source": [
    "c=[]\n",
    "count=0\n",
    "print('len(b)=',len(b))\n",
    "for i in range(2,len(b)):\n",
    "    \n",
    "    print('i=',i,'b[i]=',b[i])\n",
    "    if '1'==b[i]:\n",
    "        count+=1\n",
    "        print('c==1:', count)\n",
    "        if i == len(b)-1:\n",
    "            c.append(count)\n",
    "            pass       \n",
    "    else:\n",
    "        c.append(count)\n",
    "        count=0\n",
    "print(max(c))"
   ]
  },
  {
   "cell_type": "markdown",
   "metadata": {},
   "source": [
    "A number is called lucky if the sum of its digits, as well as the sum of the squares of its digits is a prime number. How many numbers between a and b inclusive, are lucky?"
   ]
  },
  {
   "cell_type": "code",
   "execution_count": 137,
   "metadata": {},
   "outputs": [],
   "source": [
    "def sum_nums_square(l_nums):\n",
    "    sum_nums=0\n",
    "    sum_square=0\n",
    "    for j in range(len(l_nums)):\n",
    "        \n",
    "        sum_nums += int(l_nums[j])\n",
    "        sum_square+=int(l_nums[j])**2\n",
    "    return sum_nums,sum_square\n",
    "\n",
    "def is_prime(num):\n",
    "    num_is_prime=False\n",
    "    if int(num) == 2 or int(num)==3 or int(num)==5 or int(num)==7:\n",
    "        num_is_prime=True\n",
    "    else:\n",
    "        for i in range(2,num,1):       \n",
    "            if num%i==0:\n",
    "                num_is_prime=False\n",
    "                break\n",
    "            else:\n",
    "                num_is_prime=True\n",
    "#             print('(in prime) j=',i,'num=',num,'is_prime=',num_is_prime)\n",
    "    return num_is_prime"
   ]
  },
  {
   "cell_type": "code",
   "execution_count": 140,
   "metadata": {},
   "outputs": [],
   "source": [
    "def luckyNumbers(a, b):\n",
    "    #\n",
    "    # Write your code here.\n",
    "    #\n",
    "    c_luckly_number=0\n",
    "    for i in range(a,b+1,1):\n",
    "        l_nums=list(str(i))\n",
    "\n",
    "        sum_nums,sum_square=sum_nums_square(l_nums)\n",
    "        sum_nums_prime=is_prime(sum_nums)\n",
    "        sum_square_prime=is_prime(sum_square)\n",
    "        \n",
    "        if sum_nums_prime and sum_square_prime:\n",
    "            c_luckly_number+=1\n",
    "    return c_luckly_number"
   ]
  },
  {
   "cell_type": "code",
   "execution_count": 138,
   "metadata": {},
   "outputs": [
    {
     "name": "stdout",
     "output_type": "stream",
     "text": [
      "True\n"
     ]
    }
   ],
   "source": [
    "print(is_prime(7))"
   ]
  },
  {
   "cell_type": "code",
   "execution_count": 139,
   "metadata": {},
   "outputs": [
    {
     "name": "stdout",
     "output_type": "stream",
     "text": [
      "['2', '0']\n",
      "i= 20 sum_nums= 2 sum_square = 4 sum_nums_prime= True sum_square_prime= False\n",
      "['2', '1']\n",
      "i= 21 sum_nums= 3 sum_square = 5 sum_nums_prime= True sum_square_prime= True\n",
      "i= 21 is lucky number True\n",
      "['2', '2']\n",
      "i= 22 sum_nums= 4 sum_square = 8 sum_nums_prime= False sum_square_prime= False\n",
      "['2', '3']\n",
      "i= 23 sum_nums= 5 sum_square = 13 sum_nums_prime= True sum_square_prime= True\n",
      "i= 23 is lucky number True\n",
      "['2', '4']\n",
      "i= 24 sum_nums= 6 sum_square = 20 sum_nums_prime= False sum_square_prime= False\n",
      "['2', '5']\n",
      "i= 25 sum_nums= 7 sum_square = 29 sum_nums_prime= True sum_square_prime= True\n",
      "i= 25 is lucky number True\n",
      "['2', '6']\n",
      "i= 26 sum_nums= 8 sum_square = 40 sum_nums_prime= False sum_square_prime= False\n",
      "['2', '7']\n",
      "i= 27 sum_nums= 9 sum_square = 53 sum_nums_prime= False sum_square_prime= True\n",
      "['2', '8']\n",
      "i= 28 sum_nums= 10 sum_square = 68 sum_nums_prime= False sum_square_prime= False\n",
      "['2', '9']\n",
      "i= 29 sum_nums= 11 sum_square = 85 sum_nums_prime= True sum_square_prime= False\n",
      "['3', '0']\n",
      "i= 30 sum_nums= 3 sum_square = 9 sum_nums_prime= True sum_square_prime= False\n",
      "lucky numbers in total: 3\n"
     ]
    }
   ],
   "source": [
    "c_luckly_number=0\n",
    "for i in range(20,31,1):\n",
    "    l_nums=list(str(i))\n",
    "    print(l_nums)    \n",
    "    sum_nums,sum_square=sum_nums_square(l_nums)\n",
    "    sum_nums_prime=is_prime(sum_nums)\n",
    "    sum_square_prime=is_prime(sum_square)\n",
    "    print('i=',i,'sum_nums=',sum_nums,'sum_square =',sum_square,'sum_nums_prime=',sum_nums_prime,'sum_square_prime=',sum_square_prime)\n",
    "\n",
    "    if sum_nums_prime and sum_square_prime:\n",
    "        print('i=',i,'is lucky number',sum_nums_prime and sum_square_prime)\n",
    "        c_luckly_number+=1\n",
    "print('lucky numbers in total:',c_luckly_number)\n",
    "    "
   ]
  },
  {
   "cell_type": "code",
   "execution_count": 141,
   "metadata": {},
   "outputs": [
    {
     "name": "stdout",
     "output_type": "stream",
     "text": [
      "3\n"
     ]
    }
   ],
   "source": [
    "print(luckyNumbers(20, 30))"
   ]
  },
  {
   "cell_type": "code",
   "execution_count": 2,
   "metadata": {},
   "outputs": [],
   "source": [
    "arr=[[11,2,4],[4,5,6],[10,8,-12]]"
   ]
  },
  {
   "cell_type": "code",
   "execution_count": 3,
   "metadata": {},
   "outputs": [
    {
     "data": {
      "text/plain": [
       "[[11, 2, 4], [4, 5, 6], [10, 8, -12]]"
      ]
     },
     "execution_count": 3,
     "metadata": {},
     "output_type": "execute_result"
    }
   ],
   "source": [
    "arr"
   ]
  },
  {
   "cell_type": "markdown",
   "metadata": {},
   "source": [
    "Given a square matrix, calculate the absolute difference between the sums of its diagonals.\n",
    "\n"
   ]
  },
  {
   "cell_type": "code",
   "execution_count": 17,
   "metadata": {},
   "outputs": [
    {
     "name": "stdout",
     "output_type": "stream",
     "text": [
      "11\n",
      "i= 0 j= 2   4\n",
      "5\n",
      "i= 1 j= 1   5\n",
      "i= 2 j= 0   10\n",
      "-12\n",
      "15\n"
     ]
    }
   ],
   "source": [
    "sum_left = 0\n",
    "sum_right = 0\n",
    "for i in range(len(arr)):\n",
    "    for j in range(len(arr[i])):\n",
    "        if i==j:\n",
    "            print(arr[i][j])\n",
    "            sum_left += arr[i][j]\n",
    "        if i+j==len(arr)-1:\n",
    "            sum_right+=arr[i][j]\n",
    "            print('i=',i,'j=',j, ' ',arr[i][j])\n",
    "            \n",
    "print(abs(sum_left-sum_right))"
   ]
  },
  {
   "cell_type": "code",
   "execution_count": null,
   "metadata": {},
   "outputs": [],
   "source": []
  },
  {
   "cell_type": "code",
   "execution_count": 5,
   "metadata": {},
   "outputs": [
    {
     "data": {
      "text/plain": [
       "3"
      ]
     },
     "execution_count": 5,
     "metadata": {},
     "output_type": "execute_result"
    }
   ],
   "source": [
    "len(arr)"
   ]
  },
  {
   "cell_type": "code",
   "execution_count": 6,
   "metadata": {},
   "outputs": [
    {
     "data": {
      "text/plain": [
       "3"
      ]
     },
     "execution_count": 6,
     "metadata": {},
     "output_type": "execute_result"
    }
   ],
   "source": [
    "len(arr[1])"
   ]
  }
 ],
 "metadata": {
  "kernelspec": {
   "display_name": "Python 3",
   "language": "python",
   "name": "python3"
  },
  "language_info": {
   "codemirror_mode": {
    "name": "ipython",
    "version": 3
   },
   "file_extension": ".py",
   "mimetype": "text/x-python",
   "name": "python",
   "nbconvert_exporter": "python",
   "pygments_lexer": "ipython3",
   "version": "3.7.0"
  }
 },
 "nbformat": 4,
 "nbformat_minor": 2
}
