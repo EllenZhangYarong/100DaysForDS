{
 "cells": [
  {
   "cell_type": "code",
   "execution_count": null,
   "metadata": {
    "collapsed": true
   },
   "outputs": [],
   "source": [
    "class Book(object, metaclass=ABCMeta):\n",
    "    def __init__(self,title,author):\n",
    "        self.title=title\n",
    "        self.author=author   \n",
    "    @abstractmethod\n",
    "    def display(): pass"
   ]
  },
  {
   "cell_type": "code",
   "execution_count": null,
   "metadata": {
    "collapsed": true
   },
   "outputs": [],
   "source": [
    "class MyBook(Book):\n",
    "    def __init__(self,title,author,price):\n",
    "        super().__init__(title,author)\n",
    "        self.price=price\n",
    "    def display(self):\n",
    "        print('Title:',title)\n",
    "        print('Author:',author)\n",
    "        print('Price:',price)"
   ]
  },
  {
   "cell_type": "code",
   "execution_count": 1,
   "metadata": {
    "collapsed": true
   },
   "outputs": [],
   "source": [
    "class Person:\n",
    "\tdef __init__(self, firstName, lastName, idNumber):\n",
    "\t\tself.firstName = firstName\n",
    "\t\tself.lastName = lastName\n",
    "\t\tself.idNumber = idNumber\n",
    "\tdef printPerson(self):\n",
    "\t\tprint(\"Name:\", self.lastName + \",\", self.firstName)\n",
    "\t\tprint(\"ID:\", self.idNumber)"
   ]
  },
  {
   "cell_type": "code",
   "execution_count": 18,
   "metadata": {},
   "outputs": [],
   "source": [
    "class Student(Person):\n",
    "    #   Class Constructor\n",
    "    #   \n",
    "    #   Parameters:\n",
    "    #   firstName - A string denoting the Person's first name.\n",
    "    #   lastName - A string denoting the Person's last name.\n",
    "    #   id - An integer denoting the Person's ID number.\n",
    "    #   scores - An array of integers denoting the Person's test scores.\n",
    "    #\n",
    "    # Write your constructor here\n",
    "    def __init__(self,firstName,lastName,idNum,scores):\n",
    "        super().__init__(firstName,lastName,idNum)\n",
    "        self.scores=scores\n",
    "        \n",
    "    def calculate(self):\n",
    "        sum=0\n",
    "        level=''\n",
    "        scos=self.scores\n",
    "        for i in range(len(scos)):\n",
    "            sum += scos[i]\n",
    "        iAvg = sum/len(scos)\n",
    "        return 'O' if iAvg > 89 else 'E' if iAvg > 79 else 'A' if iAvg > 69 else 'P' if iAvg > 54 else 'D' if iAvg > 39 else 'T'\n",
    "        "
   ]
  },
  {
   "cell_type": "code",
   "execution_count": 21,
   "metadata": {},
   "outputs": [
    {
     "name": "stdout",
     "output_type": "stream",
     "text": [
      "O\n"
     ]
    }
   ],
   "source": [
    "print(s.calculate())"
   ]
  },
  {
   "cell_type": "code",
   "execution_count": 20,
   "metadata": {},
   "outputs": [
    {
     "name": "stdout",
     "output_type": "stream",
     "text": [
      "Name: Heraldo, Memelli\n",
      "ID: 8135627\n",
      "Grade:  O\n"
     ]
    }
   ],
   "source": [
    "firstName = 'Memelli'\n",
    "lastName = 'Heraldo'\n",
    "idNum = 8135627\n",
    "scores = [100,80]\n",
    "s = Student(firstName, lastName, idNum, scores)\n",
    "s.printPerson()\n",
    "print(\"Grade: \",s.calculate())"
   ]
  },
  {
   "cell_type": "code",
   "execution_count": null,
   "metadata": {},
   "outputs": [],
   "source": [
    "class Difference:\n",
    "    def __init__(self, a):\n",
    "        self.__elements = a\n",
    "        self.maximumDifference=0\n",
    "        \n",
    "#       self.maximumDifference=max(a)-min(a)\n",
    "\n",
    "        \n",
    "    def computeDifference(self):\n",
    "#         return self.maximumDifference\n",
    "    diff=0\n",
    "        \n",
    "    for i in range(len(self.__elements)-1):\n",
    "        for j in range(i+1,len(self.__elements)):\n",
    "            diff = abs(self.__elements[i] - self.__elements[j])\n",
    "            # print(i,diff)\n",
    "            if self.maximumDifference<diff:\n",
    "                self.maximumDifference = diff\n",
    "    return self.maximumDifference\n",
    "\n",
    "_ = input()\n",
    "a = [int(e) for e in input().split(' ')]\n",
    "\n",
    "d = Difference(a)\n",
    "d.computeDifference()\n",
    "\n",
    "print(d.maximumDifference)"
   ]
  }
 ],
 "metadata": {
  "kernelspec": {
   "display_name": "Python 3",
   "language": "python",
   "name": "python3"
  },
  "language_info": {
   "codemirror_mode": {
    "name": "ipython",
    "version": 3
   },
   "file_extension": ".py",
   "mimetype": "text/x-python",
   "name": "python",
   "nbconvert_exporter": "python",
   "pygments_lexer": "ipython3",
   "version": "3.7.0"
  }
 },
 "nbformat": 4,
 "nbformat_minor": 2
}
