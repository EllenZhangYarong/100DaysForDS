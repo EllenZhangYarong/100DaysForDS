{
 "cells": [
  {
   "cell_type": "code",
   "execution_count": 3,
   "metadata": {
    "collapsed": true
   },
   "outputs": [],
   "source": [
    "import numpy as np"
   ]
  },
  {
   "cell_type": "code",
   "execution_count": 2,
   "metadata": {
    "collapsed": true
   },
   "outputs": [],
   "source": [
    "arr = np.random.randint(-9,9,36).reshape(6,6)"
   ]
  },
  {
   "cell_type": "code",
   "execution_count": 3,
   "metadata": {},
   "outputs": [
    {
     "data": {
      "text/plain": [
       "array([[ 5,  3,  3,  0, -8,  6],\n",
       "       [ 4, -2,  6,  5, -7,  7],\n",
       "       [-8,  6, -6,  2, -3, -9],\n",
       "       [-9, -9, -6,  3, -1,  0],\n",
       "       [-5,  8, -3,  6, -3, -5],\n",
       "       [ 0, -9, -5,  6, -1,  5]])"
      ]
     },
     "execution_count": 3,
     "metadata": {},
     "output_type": "execute_result"
    }
   ],
   "source": [
    "arr"
   ]
  },
  {
   "cell_type": "markdown",
   "metadata": {},
   "source": [
    "Given a 6x6 2D Array \n",
    "\n",
    "There are 16 hourglasses in array, and an hourglass sum is the sum of an hourglass' values. \n",
    "Calculate the hourglass sum for every hourglass in array, then print the maximum hourglass sum."
   ]
  },
  {
   "cell_type": "code",
   "execution_count": 22,
   "metadata": {
    "collapsed": true
   },
   "outputs": [],
   "source": [
    "sum = []\n",
    "def hourglassSum(arr):\n",
    "     \n",
    "    for i in range(1,5):\n",
    "        for j in range(1,5):\n",
    "            print(i,j)\n",
    "            sum.append(arr[i-1,j-1]+arr[i-1,j]+arr[i-1,j+1]+\n",
    "                      arr[i,j]+arr[i+1,j-1]+arr[i+1,j]+arr[i+1,j+1])\n",
    "    print(sum)\n",
    "    return max(sum)"
   ]
  },
  {
   "cell_type": "code",
   "execution_count": 23,
   "metadata": {},
   "outputs": [
    {
     "name": "stdout",
     "output_type": "stream",
     "text": [
      "1 1\n",
      "1 2\n",
      "1 3\n",
      "1 4\n",
      "2 1\n",
      "2 2\n",
      "2 3\n",
      "2 4\n",
      "3 1\n",
      "3 2\n",
      "3 3\n",
      "3 4\n",
      "4 1\n",
      "4 2\n",
      "4 3\n",
      "4 4\n",
      "[1, 14, -7, -19, -10, -9, 2, 4, -17, 7, -4, -13, -30, -23, 2, 9]\n",
      "14\n"
     ]
    }
   ],
   "source": [
    "result=hourglassSum(arr)\n",
    "print(result)"
   ]
  },
  {
   "cell_type": "code",
   "execution_count": 24,
   "metadata": {
    "collapsed": true
   },
   "outputs": [],
   "source": [
    "sum = []\n",
    "def hourglassSum(arr):\n",
    "     \n",
    "    for i in range(1,5):\n",
    "        for j in range(1,5):\n",
    "            sum.append(arr[i-1][j-1]+arr[i-1][j]+arr[i-1][j+1]+\n",
    "                      arr[i][j]+arr[i+1][j-1]+arr[i+1][j]+arr[i+1][j+1])\n",
    "    return max(sum)"
   ]
  },
  {
   "cell_type": "code",
   "execution_count": 25,
   "metadata": {},
   "outputs": [
    {
     "name": "stdout",
     "output_type": "stream",
     "text": [
      "14\n"
     ]
    }
   ],
   "source": [
    "result=hourglassSum(arr)\n",
    "print(result)"
   ]
  },
  {
   "cell_type": "code",
   "execution_count": 29,
   "metadata": {
    "collapsed": true
   },
   "outputs": [],
   "source": [
    "arr2=np.random.randint(1,4,3)"
   ]
  },
  {
   "cell_type": "code",
   "execution_count": 30,
   "metadata": {},
   "outputs": [
    {
     "data": {
      "text/plain": [
       "array([1, 3, 3])"
      ]
     },
     "execution_count": 30,
     "metadata": {},
     "output_type": "execute_result"
    }
   ],
   "source": [
    "arr2"
   ]
  },
  {
   "cell_type": "code",
   "execution_count": 31,
   "metadata": {},
   "outputs": [
    {
     "data": {
      "text/plain": [
       "3"
      ]
     },
     "execution_count": 31,
     "metadata": {},
     "output_type": "execute_result"
    }
   ],
   "source": [
    "len(arr2)"
   ]
  },
  {
   "cell_type": "code",
   "execution_count": 32,
   "metadata": {},
   "outputs": [
    {
     "name": "stdout",
     "output_type": "stream",
     "text": [
      "3\n",
      "4\n"
     ]
    }
   ],
   "source": [
    "for i in range(3,5,1):\n",
    "    print(i)"
   ]
  },
  {
   "cell_type": "code",
   "execution_count": 40,
   "metadata": {
    "collapsed": true
   },
   "outputs": [],
   "source": [
    "def  oddNumbers(l, r):\n",
    "    \n",
    "    odd_num=[]\n",
    "    for i in range(l,r+1,1):\n",
    "        if i%2!=0:\n",
    "            odd_num.append(i)\n",
    "    return odd_num"
   ]
  },
  {
   "cell_type": "code",
   "execution_count": 41,
   "metadata": {
    "collapsed": true
   },
   "outputs": [],
   "source": [
    "o=oddNumbers(4,6)"
   ]
  },
  {
   "cell_type": "code",
   "execution_count": 42,
   "metadata": {},
   "outputs": [
    {
     "name": "stdout",
     "output_type": "stream",
     "text": [
      "[5]\n"
     ]
    }
   ],
   "source": [
    "print(o)"
   ]
  },
  {
   "cell_type": "markdown",
   "metadata": {},
   "source": [
    "array size a, left rotation d\n",
    "\n",
    "performed on array [1,2,3,4,5] , then the array would become [3,4,5,1,2].\n",
    "\n",
    "Given an array a of n integers and a number, , perform  left rotations on the array. Return the updated array to be printed as a single line of space-separated integers."
   ]
  },
  {
   "cell_type": "code",
   "execution_count": 33,
   "metadata": {
    "collapsed": true
   },
   "outputs": [],
   "source": [
    "def rotLeft(a, d):\n",
    "    new_array = []   \n",
    "    for i in range(d,len(a)):\n",
    "        new_array.append(a[i])\n",
    "        \n",
    "    for j in range(0,d):\n",
    "        new_array.append(a[j])\n",
    "    return new_array"
   ]
  },
  {
   "cell_type": "code",
   "execution_count": 36,
   "metadata": {},
   "outputs": [
    {
     "data": {
      "text/plain": [
       "array([0, 1, 2, 3, 4, 5, 6, 7, 8, 9])"
      ]
     },
     "execution_count": 36,
     "metadata": {},
     "output_type": "execute_result"
    }
   ],
   "source": [
    "arr = np.arange(0,10)\n",
    "arr"
   ]
  },
  {
   "cell_type": "code",
   "execution_count": 39,
   "metadata": {},
   "outputs": [
    {
     "data": {
      "text/plain": [
       "[5, 6, 7, 8, 9, 0, 1, 2, 3, 4]"
      ]
     },
     "execution_count": 39,
     "metadata": {},
     "output_type": "execute_result"
    }
   ],
   "source": [
    "new_arr = rotLeft(arr,5)\n",
    "new_arr"
   ]
  },
  {
   "cell_type": "markdown",
   "metadata": {},
   "source": [
    "New Year Chaos Problem\n",
    "\n",
    "It's New Year's Day and everyone's in line for the Wonderland rollercoaster ride! There are a number of people queued up, and each person wears a sticker indicating their initial position in the queue. Initial positions increment by  from  at the front of the line to  at the back.\n",
    "\n",
    "Any person in the queue can bribe the person directly in front of them to swap positions. If two people swap positions, they still wear the same sticker denoting their original places in line. One person can bribe at most two others. For example, if n=8 and Person4 bribes Person5, the queue will look like this: 1,2,3,5,4,6,7,8.\n",
    "\n",
    "Fascinated by this chaotic queue, you decide you must know the minimum number of bribes that took place to get the queue into its current state!"
   ]
  },
  {
   "cell_type": "code",
   "execution_count": null,
   "metadata": {
    "collapsed": true
   },
   "outputs": [],
   "source": [
    "def minimumBribes(q):"
   ]
  },
  {
   "cell_type": "code",
   "execution_count": 1,
   "metadata": {
    "collapsed": true
   },
   "outputs": [],
   "source": [
    "def minmaxspicychicken(min,max):\n",
    "    for i in range(min,max+1):\n",
    "        if i%3==0 and i%5==0:\n",
    "            print(i,'SpicyChicken!')\n",
    "        elif i%3==0:\n",
    "            print(i,'Spicy')\n",
    "        elif i%5==0:\n",
    "            print(i,'Chicken')\n",
    "        else:\n",
    "            print(i)"
   ]
  },
  {
   "cell_type": "code",
   "execution_count": 2,
   "metadata": {},
   "outputs": [
    {
     "name": "stdout",
     "output_type": "stream",
     "text": [
      "1\n",
      "2\n",
      "3 Spicy\n",
      "4\n",
      "5 Chicken\n",
      "6 Spicy\n",
      "7\n",
      "8\n",
      "9 Spicy\n",
      "10 Chicken\n",
      "11\n",
      "12 Spicy\n",
      "13\n",
      "14\n",
      "15 SpicyChicken!\n",
      "16\n",
      "17\n",
      "18 Spicy\n",
      "19\n",
      "20 Chicken\n",
      "21 Spicy\n",
      "22\n",
      "23\n",
      "24 Spicy\n",
      "25 Chicken\n",
      "26\n",
      "27 Spicy\n",
      "28\n",
      "29\n",
      "30 SpicyChicken!\n",
      "31\n",
      "32\n",
      "33 Spicy\n",
      "34\n",
      "35 Chicken\n",
      "36 Spicy\n",
      "37\n",
      "38\n",
      "39 Spicy\n",
      "40 Chicken\n",
      "41\n",
      "42 Spicy\n",
      "43\n",
      "44\n",
      "45 SpicyChicken!\n",
      "46\n",
      "47\n",
      "48 Spicy\n",
      "49\n",
      "50 Chicken\n",
      "51 Spicy\n",
      "52\n",
      "53\n",
      "54 Spicy\n",
      "55 Chicken\n",
      "56\n",
      "57 Spicy\n",
      "58\n",
      "59\n",
      "60 SpicyChicken!\n",
      "61\n",
      "62\n",
      "63 Spicy\n",
      "64\n",
      "65 Chicken\n",
      "66 Spicy\n",
      "67\n",
      "68\n",
      "69 Spicy\n",
      "70 Chicken\n",
      "71\n",
      "72 Spicy\n",
      "73\n",
      "74\n",
      "75 SpicyChicken!\n",
      "76\n",
      "77\n",
      "78 Spicy\n",
      "79\n",
      "80 Chicken\n",
      "81 Spicy\n",
      "82\n",
      "83\n",
      "84 Spicy\n",
      "85 Chicken\n",
      "86\n",
      "87 Spicy\n",
      "88\n",
      "89\n",
      "90 SpicyChicken!\n",
      "91\n",
      "92\n",
      "93 Spicy\n",
      "94\n",
      "95 Chicken\n",
      "96 Spicy\n",
      "97\n",
      "98\n",
      "99 Spicy\n",
      "100 Chicken\n"
     ]
    }
   ],
   "source": [
    "minmaxspicychicken(1,100)"
   ]
  },
  {
   "cell_type": "markdown",
   "metadata": {},
   "source": [
    "## Queens on Board\n",
    "\n",
    "You have an N * M chessboard on which some squares are blocked out. In how many ways can you place one or more queens on the board, such that, no two queens attack each other? Two queens attack each other, if one can reach the other by moving horizontally, vertically, or diagonally without passing over any blocked square. At most one queen can be placed on a square. A queen cannot be placed on a blocked square."
   ]
  },
  {
   "cell_type": "markdown",
   "metadata": {},
   "source": [
    "### Sample input\n",
    "4  \n",
    "3 3  \n",
    "...  \n",
    "...  \n",
    "...  \n",
    "3 3  \n",
    ".#.  \n",
    ".#.  \n",
    "...  \n",
    "2 4  \n",
    ".#..  \n",
    "....  \n",
    "1 1  \n",
    "#"
   ]
  },
  {
   "cell_type": "markdown",
   "metadata": {},
   "source": [
    "### Sample output\n",
    "\n",
    "17  \n",
    "18  \n",
    "14  \n",
    "0 "
   ]
  },
  {
   "cell_type": "code",
   "execution_count": null,
   "metadata": {
    "collapsed": true
   },
   "outputs": [],
   "source": [
    "def queensBoard(board):\n",
    "    #\n",
    "    # Write your code here.\n",
    "    #"
   ]
  },
  {
   "cell_type": "code",
   "execution_count": null,
   "metadata": {
    "collapsed": true
   },
   "outputs": [],
   "source": [
    "#!/bin/python3\n",
    "\n",
    "import os\n",
    "import sys\n",
    "\n",
    "#\n",
    "# Complete the queensBoard function below.\n",
    "#\n",
    "def queensBoard(board):\n",
    "    #\n",
    "    # Write your code here.\n",
    "    #\n",
    "\n",
    "if __name__ == '__main__':\n",
    "    fptr = open(os.environ['OUTPUT_PATH'], 'w')\n",
    "\n",
    "    t = int(input())\n",
    "\n",
    "    for t_itr in range(t):\n",
    "        nm = input().split()\n",
    "\n",
    "        n = int(nm[0])\n",
    "\n",
    "        m = int(nm[1])\n",
    "\n",
    "        board = []\n",
    "\n",
    "        for _ in range(n):\n",
    "            board_item = input()\n",
    "            board.append(board_item)\n",
    "\n",
    "        result = queensBoard(board)\n",
    "\n",
    "        fptr.write(str(result) + '\\n')\n",
    "\n",
    "    fptr.close()\n"
   ]
  }
 ],
 "metadata": {
  "kernelspec": {
   "display_name": "Python 3",
   "language": "python",
   "name": "python3"
  },
  "language_info": {
   "codemirror_mode": {
    "name": "ipython",
    "version": 3
   },
   "file_extension": ".py",
   "mimetype": "text/x-python",
   "name": "python",
   "nbconvert_exporter": "python",
   "pygments_lexer": "ipython3",
   "version": "3.6.0"
  }
 },
 "nbformat": 4,
 "nbformat_minor": 2
}
