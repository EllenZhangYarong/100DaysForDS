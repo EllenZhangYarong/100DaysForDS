{
 "cells": [
  {
   "cell_type": "markdown",
   "metadata": {},
   "source": [
    "SELECT distinct(city)\n",
    "FROM STATION\n",
    "Where substr(city, 1, 1) NOT IN ('A','E','I','O','U');\n",
    "\n",
    "\n",
    "SELECT distinct(city)\n",
    "FROM STATION\n",
    "Where (Not (city Like 'A%'  or city Like 'E%' or city Like 'I%' or city Like 'O%' or city Like 'U%'));"
   ]
  },
  {
   "cell_type": "code",
   "execution_count": null,
   "metadata": {
    "collapsed": true
   },
   "outputs": [],
   "source": [
    "SELECT distinct(city)\n",
    "FROM station\n",
    "WHERE substr(city,-1,1) NOT IN ('a','e','i','o','u');"
   ]
  },
  {
   "cell_type": "markdown",
   "metadata": {},
   "source": [
    "### problem:\n",
    "- Query the list of CITY names from STATION that either do not start with vowels or do not end with vowels. Your result cannot contain duplicates.\n",
    "\n",
    "### solution:\n",
    "```\n",
    "SELECT distinct(city)\n",
    "FROM station\n",
    "WHERE (substr(lower(city),1,1) NOT IN ('a','e','i','o','u')) \n",
    "    OR (substr(lower(city),-1,1) NOT IN ('a','e','i','o','u')) ;\n",
    "```"
   ]
  },
  {
   "cell_type": "markdown",
   "metadata": {},
   "source": [
    "### problem:\n",
    "\n",
    "- Query the Name of any student in STUDENTS who scored higher than  Marks. Order your output by the last three characters of each name. If two or more students both have names ending in the same last three characters (i.e.: Bobby, Robby, etc.), secondary sort them by ascending ID.\n",
    "\n",
    "### solution:\n",
    "\n",
    "```\n",
    "SELECT name FROM students\n",
    "WHERE marks > 75\n",
    "order by substr(name,-3) ASC, id ASC;\n",
    "```"
   ]
  },
  {
   "cell_type": "code",
   "execution_count": null,
   "metadata": {
    "collapsed": true
   },
   "outputs": [],
   "source": [
    "function getGrade(score) {\n",
    "    let grade;\n",
    "    // Write your code here\n",
    "    if (score>25 && score <= 30 ){\n",
    "        grade='A';\n",
    "    }else if(score>20 && score <= 25){\n",
    "        grade='B';\n",
    "    }else if(score>15 && score <= 20){\n",
    "        grade='C';\n",
    "    }else if(score>10 && score <= 15){\n",
    "        grade='D';\n",
    "    }else if(score>5 && score <= 10){\n",
    "        grade='E';\n",
    "    }else{\n",
    "        grade='F';\n",
    "    }\n",
    "    return grade;"
   ]
  },
  {
   "cell_type": "code",
   "execution_count": null,
   "metadata": {
    "collapsed": true
   },
   "outputs": [],
   "source": [
    "function getGrade(score) {\n",
    "    let grade;\n",
    "    // Write your code here\n",
    "    return 'FEDCBA'[parseInt((score > 0 ? score - 1 : 0) / 5)];\n",
    "}"
   ]
  }
 ],
 "metadata": {
  "kernelspec": {
   "display_name": "Python 3",
   "language": "python",
   "name": "python3"
  },
  "language_info": {
   "codemirror_mode": {
    "name": "ipython",
    "version": 3
   },
   "file_extension": ".py",
   "mimetype": "text/x-python",
   "name": "python",
   "nbconvert_exporter": "python",
   "pygments_lexer": "ipython3",
   "version": "3.6.0"
  }
 },
 "nbformat": 4,
 "nbformat_minor": 2
}
